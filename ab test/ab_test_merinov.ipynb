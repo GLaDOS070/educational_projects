{
 "cells": [
  {
   "cell_type": "code",
   "execution_count": 1,
   "id": "399c1b5a-efa4-4a77-9f7b-1779a1daaed9",
   "metadata": {},
   "outputs": [],
   "source": [
    "import numpy as np\n",
    "import pandas as pd\n",
    "from scipy import stats\n",
    "import matplotlib.pyplot as plt\n",
    "import seaborn as sns\n",
    "\n",
    "from tqdm import tqdm\n",
    "\n",
    "\n",
    "import pandahouse"
   ]
  },
  {
   "cell_type": "code",
   "execution_count": 2,
   "id": "92c47f4b-c86e-4f73-a057-eea2e2b98737",
   "metadata": {},
   "outputs": [
    {
     "data": {
      "text/html": [
       "<div>\n",
       "<style scoped>\n",
       "    .dataframe tbody tr th:only-of-type {\n",
       "        vertical-align: middle;\n",
       "    }\n",
       "\n",
       "    .dataframe tbody tr th {\n",
       "        vertical-align: top;\n",
       "    }\n",
       "\n",
       "    .dataframe thead th {\n",
       "        text-align: right;\n",
       "    }\n",
       "</style>\n",
       "<table border=\"1\" class=\"dataframe\">\n",
       "  <thead>\n",
       "    <tr style=\"text-align: right;\">\n",
       "      <th></th>\n",
       "      <th>exp_group</th>\n",
       "      <th>user_id</th>\n",
       "      <th>likes</th>\n",
       "      <th>views</th>\n",
       "      <th>ctr</th>\n",
       "    </tr>\n",
       "  </thead>\n",
       "  <tbody>\n",
       "    <tr>\n",
       "      <th>0</th>\n",
       "      <td>3</td>\n",
       "      <td>115383</td>\n",
       "      <td>11</td>\n",
       "      <td>36</td>\n",
       "      <td>0.305556</td>\n",
       "    </tr>\n",
       "    <tr>\n",
       "      <th>1</th>\n",
       "      <td>3</td>\n",
       "      <td>123580</td>\n",
       "      <td>15</td>\n",
       "      <td>92</td>\n",
       "      <td>0.163043</td>\n",
       "    </tr>\n",
       "    <tr>\n",
       "      <th>2</th>\n",
       "      <td>2</td>\n",
       "      <td>131473</td>\n",
       "      <td>26</td>\n",
       "      <td>148</td>\n",
       "      <td>0.175676</td>\n",
       "    </tr>\n",
       "    <tr>\n",
       "      <th>3</th>\n",
       "      <td>2</td>\n",
       "      <td>23985</td>\n",
       "      <td>12</td>\n",
       "      <td>66</td>\n",
       "      <td>0.181818</td>\n",
       "    </tr>\n",
       "    <tr>\n",
       "      <th>4</th>\n",
       "      <td>2</td>\n",
       "      <td>24523</td>\n",
       "      <td>17</td>\n",
       "      <td>120</td>\n",
       "      <td>0.141667</td>\n",
       "    </tr>\n",
       "  </tbody>\n",
       "</table>\n",
       "</div>"
      ],
      "text/plain": [
       "   exp_group  user_id  likes  views       ctr\n",
       "0          3   115383     11     36  0.305556\n",
       "1          3   123580     15     92  0.163043\n",
       "2          2   131473     26    148  0.175676\n",
       "3          2    23985     12     66  0.181818\n",
       "4          2    24523     17    120  0.141667"
      ]
     },
     "execution_count": 2,
     "metadata": {},
     "output_type": "execute_result"
    }
   ],
   "source": [
    "# устанавливаем connection с БД\n",
    "connection = {'host': 'https://clickhouse.lab.karpov.courses',\n",
    "                      'database':'simulator_20221120',\n",
    "                      'user':'USER', \n",
    "                      'password':'PASSWORD'\n",
    "                     }\n",
    "\n",
    "q = \"\"\"\n",
    "SELECT exp_group, \n",
    "    user_id,\n",
    "    sum(action = 'like') as likes,\n",
    "    sum(action = 'view') as views,\n",
    "    likes/views as ctr\n",
    "FROM {db}.feed_actions \n",
    "WHERE toDate(time) between '2022-10-26' and '2022-11-01'\n",
    "    and exp_group in (2,3)\n",
    "GROUP BY exp_group, user_id\n",
    "\"\"\"\n",
    "\n",
    "df_aa = pandahouse.read_clickhouse(q, connection=connection)\n",
    "\n",
    "df_aa.head()"
   ]
  },
  {
   "cell_type": "markdown",
   "id": "c0e43d09-185b-4df9-80b1-be38a81e6d19",
   "metadata": {},
   "source": [
    "# 1 Задание"
   ]
  },
  {
   "cell_type": "markdown",
   "id": "9530358c-1100-4864-847e-0120879758af",
   "metadata": {
    "tags": []
   },
   "source": [
    "## А/А тест\n",
    "Что нужно сделать: у нас есть данные АА-теста с '2022-10-26' по '2022-11-01'. Вам нужно сделать симуляцию, как будто мы провели 10000 АА-тестов. На каждой итерации вам нужно сформировать подвыборки без повторения в 500 юзеров из 2 и 3 экспериментальной группы. Провести сравнение этих подвыборок t-testом.\n",
    "\n",
    "1. Построить гистограмму распределения получившихся 10000 p-values.\n",
    "\n",
    "2. Посчитать, какой процент p values оказался меньше либо равен 0.05\n",
    "\n",
    "3. Написать вывод по проведенному АА-тесту, корректно ли работает наша система сплитования.\n",
    "\n",
    "4. Пришлите ссылку на merge request c проведенным анализом."
   ]
  },
  {
   "cell_type": "code",
   "execution_count": 3,
   "id": "4edf9510-9bae-41cf-9305-fec1f27e9498",
   "metadata": {},
   "outputs": [
    {
     "name": "stderr",
     "output_type": "stream",
     "text": [
      "100%|██████████| 10000/10000 [01:18<00:00, 127.09it/s]\n"
     ]
    },
    {
     "data": {
      "text/plain": [
       "0.0437"
      ]
     },
     "execution_count": 3,
     "metadata": {},
     "output_type": "execute_result"
    },
    {
     "data": {
      "image/png": "[encoded data removed]",
      "text/plain": [
       "<Figure size 432x288 with 1 Axes>"
      ]
     },
     "metadata": {
      "needs_background": "light"
     },
     "output_type": "display_data"
    }
   ],
   "source": [
    "simulations = 10000\n",
    "n_s = 500\n",
    "res = []\n",
    "\n",
    "# A/A тест\n",
    "for i in tqdm(range(simulations)):\n",
    "    s1 = df_aa.query('exp_group == 2')['ctr'].sample(n_s, replace = False).values\n",
    "    s2 = df_aa.query('exp_group == 3')['ctr'].sample(n_s, replace = False).values\n",
    "    res.append(stats.ttest_ind(s1, s2, equal_var = False)[1]) # сохраняем pvalue\n",
    "\n",
    "sns.histplot(res)\n",
    "\n",
    "# Проверяем, что количество ложноположительных случаев не превышает альфа\n",
    "sum(np.array(res) <0.05) / simulations"
   ]
  },
  {
   "attachments": {},
   "cell_type": "markdown",
   "id": "12751f27-0ac9-496d-bbe9-fe0c41598e97",
   "metadata": {
    "tags": []
   },
   "source": [
    "**Вывод**\n",
    "\n",
    "система сплитования работает правильно при уровне значимости 0,05"
   ]
  },
  {
   "attachments": {},
   "cell_type": "markdown",
   "id": "2b432624-bdb8-4bb7-af4f-07065623e076",
   "metadata": {
    "tags": []
   },
   "source": [
    "# 2 Задание\n",
    "Эксперимент проходил с 2022-11-02 по 2022-11-08 включительно. Для эксперимента были задействованы 2 и 1 группы. \n",
    "В группе 2 был использован один из новых алгоритмов рекомендации постов, группа 1 использовалась в качестве контроля. \n",
    "\n",
    "Основная гипотеза заключается в том, что новый алгоритм во 2-й группе приведет к увеличению CTR. \n",
    "\n",
    "**Ваша задача** — проанализировать данные АB-теста. \n",
    "\n",
    "1. Выбрать метод анализа и сравнить CTR в двух группах (мы разбирали t-тест, Пуассоновский бутстреп, тест Манна-Уитни, t-тест на сглаженном ctr (α=5) а также t-тест и тест Манна-Уитни поверх бакетного преобразования).\n",
    "2. Сравните данные этими тестами. А еще посмотрите на распределения глазами. Почему тесты сработали так как сработали? \n",
    "3. Опишите потенциальную ситуацию, когда такое изменение могло произойти. Тут нет идеального ответа, подумайте.\n",
    "4. Напишите рекомендацию, будем ли мы раскатывать новый алгоритм на всех новых пользователей или все-таки не стоит."
   ]
  },
  {
   "cell_type": "code",
   "execution_count": 4,
   "id": "44fbf04a-4aee-4160-a2c2-bdd1581e2180",
   "metadata": {},
   "outputs": [
    {
     "data": {
      "text/html": [
       "<div>\n",
       "<style scoped>\n",
       "    .dataframe tbody tr th:only-of-type {\n",
       "        vertical-align: middle;\n",
       "    }\n",
       "\n",
       "    .dataframe tbody tr th {\n",
       "        vertical-align: top;\n",
       "    }\n",
       "\n",
       "    .dataframe thead th {\n",
       "        text-align: right;\n",
       "    }\n",
       "</style>\n",
       "<table border=\"1\" class=\"dataframe\">\n",
       "  <thead>\n",
       "    <tr style=\"text-align: right;\">\n",
       "      <th></th>\n",
       "      <th>exp_group</th>\n",
       "      <th>user_id</th>\n",
       "      <th>likes</th>\n",
       "      <th>views</th>\n",
       "      <th>ctr</th>\n",
       "    </tr>\n",
       "  </thead>\n",
       "  <tbody>\n",
       "    <tr>\n",
       "      <th>0</th>\n",
       "      <td>1</td>\n",
       "      <td>109963</td>\n",
       "      <td>3</td>\n",
       "      <td>15</td>\n",
       "      <td>0.200000</td>\n",
       "    </tr>\n",
       "    <tr>\n",
       "      <th>1</th>\n",
       "      <td>1</td>\n",
       "      <td>26117</td>\n",
       "      <td>32</td>\n",
       "      <td>141</td>\n",
       "      <td>0.226950</td>\n",
       "    </tr>\n",
       "    <tr>\n",
       "      <th>2</th>\n",
       "      <td>1</td>\n",
       "      <td>138232</td>\n",
       "      <td>18</td>\n",
       "      <td>73</td>\n",
       "      <td>0.246575</td>\n",
       "    </tr>\n",
       "    <tr>\n",
       "      <th>3</th>\n",
       "      <td>1</td>\n",
       "      <td>26295</td>\n",
       "      <td>33</td>\n",
       "      <td>122</td>\n",
       "      <td>0.270492</td>\n",
       "    </tr>\n",
       "    <tr>\n",
       "      <th>4</th>\n",
       "      <td>1</td>\n",
       "      <td>18392</td>\n",
       "      <td>7</td>\n",
       "      <td>32</td>\n",
       "      <td>0.218750</td>\n",
       "    </tr>\n",
       "  </tbody>\n",
       "</table>\n",
       "</div>"
      ],
      "text/plain": [
       "   exp_group  user_id  likes  views       ctr\n",
       "0          1   109963      3     15  0.200000\n",
       "1          1    26117     32    141  0.226950\n",
       "2          1   138232     18     73  0.246575\n",
       "3          1    26295     33    122  0.270492\n",
       "4          1    18392      7     32  0.218750"
      ]
     },
     "execution_count": 4,
     "metadata": {},
     "output_type": "execute_result"
    }
   ],
   "source": [
    "connection = {'host': 'https://clickhouse.lab.karpov.courses',\n",
    "                      'database':'simulator_20221120',\n",
    "                      'user':'USER', \n",
    "                      'password':'PASSWORD'\n",
    "                     }\n",
    "\n",
    "q_ab = \"\"\"\n",
    "SELECT exp_group, \n",
    "    user_id,\n",
    "    sum(action = 'like') as likes,\n",
    "    sum(action = 'view') as views,\n",
    "    likes/views as ctr\n",
    "FROM {db}.feed_actions \n",
    "WHERE toDate(time) between '2022-11-02' and '2022-11-08'\n",
    "    and exp_group in (2,1)\n",
    "GROUP BY exp_group, user_id\n",
    "\"\"\"\n",
    "\n",
    "df_ab = pandahouse.read_clickhouse(q_ab, connection=connection)\n",
    "\n",
    "df_ab.head()"
   ]
  },
  {
   "cell_type": "markdown",
   "id": "dd5bfc1d-9bd1-4edd-9c44-861a387fa91e",
   "metadata": {
    "tags": []
   },
   "source": [
    "# А/B тест"
   ]
  },
  {
   "cell_type": "markdown",
   "id": "3597fe22-754e-4aeb-a54a-624d52e586c0",
   "metadata": {},
   "source": [
    "## t-тест на CTR"
   ]
  },
  {
   "cell_type": "markdown",
   "id": "0ff569f0-9252-4712-b428-a976d132e37c",
   "metadata": {},
   "source": [
    "Нулевая гипотеза H0: μ1 = μ2 \n",
    "\n",
    "Альтернативная гипотеза H1: μ1 != μ"
   ]
  },
  {
   "cell_type": "code",
   "execution_count": 5,
   "id": "1cb329a8-8b9c-4642-8b38-ae104a485b98",
   "metadata": {},
   "outputs": [
    {
     "data": {
      "text/plain": [
       "Ttest_indResult(statistic=0.07254532035609622, pvalue=0.9421824759000128)"
      ]
     },
     "execution_count": 5,
     "metadata": {},
     "output_type": "execute_result"
    }
   ],
   "source": [
    "control = df_ab.query('exp_group == 1')['ctr'].values\n",
    "test = df_ab.query('exp_group == 2')['ctr'].values\n",
    "stats.ttest_ind(s1, s2, equal_var = False)"
   ]
  },
  {
   "cell_type": "code",
   "execution_count": 6,
   "id": "a63e0828-28f7-4d2a-a6e1-1aa4caa44836",
   "metadata": {},
   "outputs": [
    {
     "data": {
      "text/html": [
       "<div>\n",
       "<style scoped>\n",
       "    .dataframe tbody tr th:only-of-type {\n",
       "        vertical-align: middle;\n",
       "    }\n",
       "\n",
       "    .dataframe tbody tr th {\n",
       "        vertical-align: top;\n",
       "    }\n",
       "\n",
       "    .dataframe thead th {\n",
       "        text-align: right;\n",
       "    }\n",
       "</style>\n",
       "<table border=\"1\" class=\"dataframe\">\n",
       "  <thead>\n",
       "    <tr style=\"text-align: right;\">\n",
       "      <th></th>\n",
       "      <th>ctr</th>\n",
       "    </tr>\n",
       "    <tr>\n",
       "      <th>exp_group</th>\n",
       "      <th></th>\n",
       "    </tr>\n",
       "  </thead>\n",
       "  <tbody>\n",
       "    <tr>\n",
       "      <th>1</th>\n",
       "      <td>0.215605</td>\n",
       "    </tr>\n",
       "    <tr>\n",
       "      <th>2</th>\n",
       "      <td>0.214419</td>\n",
       "    </tr>\n",
       "  </tbody>\n",
       "</table>\n",
       "</div>"
      ],
      "text/plain": [
       "                ctr\n",
       "exp_group          \n",
       "1          0.215605\n",
       "2          0.214419"
      ]
     },
     "execution_count": 6,
     "metadata": {},
     "output_type": "execute_result"
    }
   ],
   "source": [
    "df_ab.query('exp_group == [1,2]').groupby('exp_group').agg({'ctr':'mean'})"
   ]
  },
  {
   "cell_type": "code",
   "execution_count": 7,
   "id": "0e9d7009-3a0a-460c-888d-549164da2728",
   "metadata": {},
   "outputs": [
    {
     "data": {
      "text/plain": [
       "<AxesSubplot:xlabel='ctr', ylabel='Count'>"
      ]
     },
     "execution_count": 7,
     "metadata": {},
     "output_type": "execute_result"
    },
    {
     "data": {
      "image/png": "[encoded data removed]",
      "text/plain": [
       "<Figure size 432x288 with 1 Axes>"
      ]
     },
     "metadata": {
      "needs_background": "light"
     },
     "output_type": "display_data"
    }
   ],
   "source": [
    "sns.histplot(data=df_ab, \n",
    "             x ='ctr', \n",
    "             hue='exp_group',\n",
    "            palette = ['r', 'b'])"
   ]
  },
  {
   "attachments": {},
   "cell_type": "markdown",
   "id": "97022aa2-9710-4620-af15-d8f57ef9f645",
   "metadata": {},
   "source": [
    "**Вывод**\n",
    "\n",
    "согласно проведенному тесту p value > 0.05, поэтому на данном уровне значимости мы не можем отклонить нулевую гипотезу"
   ]
  },
  {
   "cell_type": "markdown",
   "id": "fdfd7862-7237-49a3-bf31-bfd21441b20d",
   "metadata": {},
   "source": [
    "## mannwhitneyu-тест на CTR"
   ]
  },
  {
   "cell_type": "markdown",
   "id": "fc98b4ea-9055-4bb6-babd-980a34a44d95",
   "metadata": {},
   "source": [
    "Нулевая гипотеза H0: P(X > Y) = P(Y > X)  \n",
    "\n",
    "Альтернативная гипотеза H1: P(X > Y) != P(Y > X)"
   ]
  },
  {
   "cell_type": "code",
   "execution_count": 8,
   "id": "db697f6f-557d-4cbb-aa87-4be32568af07",
   "metadata": {},
   "outputs": [
    {
     "data": {
      "text/plain": [
       "MannwhitneyuResult(statistic=56601260.5, pvalue=6.0376484617779035e-56)"
      ]
     },
     "execution_count": 8,
     "metadata": {},
     "output_type": "execute_result"
    }
   ],
   "source": [
    "stats.mannwhitneyu(control, test)"
   ]
  },
  {
   "attachments": {},
   "cell_type": "markdown",
   "id": "2c4a1f6a-fa63-457d-8f88-a0ca2740b91f",
   "metadata": {},
   "source": [
    "**Вывод**\n",
    "\n",
    "согласно проведенному тесту p value < 0.05, поэтому на данном уровне значимости мы можем отклонить нулевую гипотезу, что видно на графике распределения 2-х выборок, в тестовой выборке распределение изменилось: появились 2 вершины -  превалирующее кол-во пользователей с ctr примерно 0.1, а также увеличилось кол-во пользователеей с ctr 0,3 и более. Кроме того появились лидеры по лайкам с ctr более 0.6"
   ]
  },
  {
   "cell_type": "markdown",
   "id": "e01dea78-78d0-406c-b807-9cad257d3593",
   "metadata": {
    "tags": []
   },
   "source": [
    "## bootstrap на CTR"
   ]
  },
  {
   "cell_type": "markdown",
   "id": "3b1e7cd9-d9b0-4cb9-94f3-31e0b41837af",
   "metadata": {},
   "source": [
    "H0: значимых различий в тестовой и контрольных выборках нет\n",
    "\n",
    "H1: есть значимые различия в тестовой и контрольных выборках"
   ]
  },
  {
   "cell_type": "code",
   "execution_count": 9,
   "id": "dcca4cc0-7438-4555-a030-0439ace8dce9",
   "metadata": {},
   "outputs": [],
   "source": [
    "# Объявим функцию, которая позволит проверять гипотезы с помощью бутстрапа\n",
    "def get_bootstrap(\n",
    "    data_column_1, # числовые значения первой выборки\n",
    "    data_column_2, # числовые значения второй выборки\n",
    "    boot_it = 1000, # количество бутстрэп-подвыборок\n",
    "    statistic = np.mean, # интересующая нас статистика\n",
    "    bootstrap_conf_level = 0.95 # уровень значимости\n",
    "):\n",
    "    \n",
    "    \"\"\"\n",
    "    функция проверяет гипотезы с помощью бутстрапа и возвращает:\n",
    "            - бутстрапированные данные,\n",
    "            - левый и правый квантили,\n",
    "            - значение p-value\n",
    "    \"\"\"\n",
    "    boot_len = max([len(data_column_1), len(data_column_2)])\n",
    "    boot_data = []\n",
    "    for i in tqdm(range(boot_it)): # извлекаем подвыборки\n",
    "        samples_1 = data_column_1.sample(\n",
    "            boot_len, \n",
    "            replace = True # параметр возвращения\n",
    "        ).values\n",
    "        \n",
    "        samples_2 = data_column_2.sample(\n",
    "            boot_len, \n",
    "            replace = True\n",
    "        ).values\n",
    "        \n",
    "        boot_data.append(statistic(samples_1-samples_2)) # mean() - применяем статистику\n",
    "        \n",
    "    pd_boot_data = pd.DataFrame(boot_data)\n",
    "        \n",
    "    left_quant = (1 - bootstrap_conf_level)/2\n",
    "    right_quant = 1 - (1 - bootstrap_conf_level) / 2\n",
    "    ci = pd_boot_data.quantile([left_quant, right_quant])\n",
    "        \n",
    "    p_1 = stats.norm.cdf(\n",
    "        x = 0, \n",
    "        loc = np.mean(boot_data), \n",
    "        scale = np.std(boot_data)\n",
    "    )\n",
    "    p_2 = stats.norm.cdf(\n",
    "        x = 0, \n",
    "        loc = -np.mean(boot_data), \n",
    "        scale = np.std(boot_data)\n",
    "    )\n",
    "    p_value = min(p_1, p_2) * 2\n",
    "        \n",
    "    # Визуализация\n",
    "    plt.hist(pd_boot_data[0], bins = 50)\n",
    "    \n",
    "    plt.style.use('ggplot')\n",
    "    plt.vlines(ci,ymin=0,ymax=60,linestyle='--')\n",
    "    plt.xlabel('boot_data')\n",
    "    plt.ylabel('frequency')\n",
    "    plt.title(\"Histogram of boot_data\")\n",
    "    plt.show()\n",
    "       \n",
    "    return {\"boot_data\": boot_data, \n",
    "            \"ci\": ci, \n",
    "            \"p_value\": p_value}"
   ]
  },
  {
   "cell_type": "code",
   "execution_count": 10,
   "id": "99ade268-d487-4d31-bb07-825a27159e2d",
   "metadata": {},
   "outputs": [
    {
     "name": "stderr",
     "output_type": "stream",
     "text": [
      "100%|██████████| 1000/1000 [00:01<00:00, 605.17it/s]\n"
     ]
    },
    {
     "data": {
      "image/png": "[encoded data removed]",
      "text/plain": [
       "<Figure size 432x288 with 1 Axes>"
      ]
     },
     "metadata": {
      "needs_background": "light"
     },
     "output_type": "display_data"
    }
   ],
   "source": [
    "booted_data = get_bootstrap(df_ab.query('exp_group == 1')['ctr'], df_ab.query('exp_group == 2')['ctr']) # в результате хранится разница двух распределений, ДИ и pvalue"
   ]
  },
  {
   "cell_type": "code",
   "execution_count": 11,
   "id": "de7d6eaa-cf16-4f85-a8bc-e6e03bfeb20c",
   "metadata": {},
   "outputs": [
    {
     "data": {
      "text/plain": [
       "0.47931132636066864"
      ]
     },
     "execution_count": 11,
     "metadata": {},
     "output_type": "execute_result"
    }
   ],
   "source": [
    "booted_data[\"p_value\"]"
   ]
  },
  {
   "cell_type": "code",
   "execution_count": 12,
   "id": "9bd7acbd-7bd0-455d-b686-78c6572edd5c",
   "metadata": {},
   "outputs": [
    {
     "data": {
      "text/html": [
       "<div>\n",
       "<style scoped>\n",
       "    .dataframe tbody tr th:only-of-type {\n",
       "        vertical-align: middle;\n",
       "    }\n",
       "\n",
       "    .dataframe tbody tr th {\n",
       "        vertical-align: top;\n",
       "    }\n",
       "\n",
       "    .dataframe thead th {\n",
       "        text-align: right;\n",
       "    }\n",
       "</style>\n",
       "<table border=\"1\" class=\"dataframe\">\n",
       "  <thead>\n",
       "    <tr style=\"text-align: right;\">\n",
       "      <th></th>\n",
       "      <th>0</th>\n",
       "    </tr>\n",
       "  </thead>\n",
       "  <tbody>\n",
       "    <tr>\n",
       "      <th>0.025</th>\n",
       "      <td>-0.002014</td>\n",
       "    </tr>\n",
       "    <tr>\n",
       "      <th>0.975</th>\n",
       "      <td>0.004478</td>\n",
       "    </tr>\n",
       "  </tbody>\n",
       "</table>\n",
       "</div>"
      ],
      "text/plain": [
       "              0\n",
       "0.025 -0.002014\n",
       "0.975  0.004478"
      ]
     },
     "execution_count": 12,
     "metadata": {},
     "output_type": "execute_result"
    }
   ],
   "source": [
    "booted_data[\"ci\"]"
   ]
  },
  {
   "attachments": {},
   "cell_type": "markdown",
   "id": "843e2842-8ace-4f84-aca1-1b923e35d031",
   "metadata": {},
   "source": [
    "**Вывод**\n",
    "\n",
    "Согласно проведенному тесту видим, что значение p_value > 0.05 и доверительный интервал имеет границы [-0.001980; 0.004462], в который попадает 0. \n",
    "Таким образом, мы не можем отклонить нулевую гипотезу на заданном уровне значимости."
   ]
  },
  {
   "cell_type": "markdown",
   "id": "935508b4-d75a-4ff3-b0f7-be576d1b2fc5",
   "metadata": {},
   "source": [
    "## Пуасоновский бутстреп bootstrap"
   ]
  },
  {
   "cell_type": "code",
   "execution_count": 13,
   "id": "229f2255-d378-4688-89c7-406f7f02a2f5",
   "metadata": {},
   "outputs": [],
   "source": [
    "def poisson_bootstap(likes1, views1, likes2, views2, n_bootstap=1000):\n",
    "\n",
    "    \"\"\"\n",
    "    функция проверяет гипотезы с помощью Пуасоновского бутстрапа и возвращает распредение 2-х CTR\n",
    "    \"\"\"\n",
    "    poisson_bootstaps1 = stats.poisson(1).rvs((1000, len(likes1))).astype(np.int64)\n",
    "    \n",
    "    poisson_bootstaps2 = stats.poisson(1).rvs((1000, len(likes2))).astype(np.int64)\n",
    "    \n",
    "    globalCTR1 = (poisson_bootstaps1*likes1).sum(axis=1)/(poisson_bootstaps1*views1).sum(axis=1)\n",
    "    \n",
    "    globalCTR2 = (poisson_bootstaps2*likes2).sum(axis=1)/(poisson_bootstaps2*views2).sum(axis=1)\n",
    "    \n",
    "    return globalCTR1, globalCTR2"
   ]
  },
  {
   "cell_type": "code",
   "execution_count": 14,
   "id": "6071d523-e4ba-45b9-b731-30f877f1e085",
   "metadata": {},
   "outputs": [],
   "source": [
    "likes1 = df_ab.query('exp_group == 1')['likes'].to_numpy()\n",
    "likes2 = df_ab.query('exp_group == 2')['likes'].to_numpy()\n",
    "views1 = df_ab.query('exp_group == 1')['views'].to_numpy()\n",
    "views2 = df_ab.query('exp_group == 2')['views'].to_numpy()"
   ]
  },
  {
   "cell_type": "code",
   "execution_count": 15,
   "id": "4f50aec7-326d-4e03-ade2-115835dd4a0f",
   "metadata": {},
   "outputs": [],
   "source": [
    "ctr1, ctr2 = poisson_bootstap(likes1, views1, likes2, views2, n_bootstap=2000)"
   ]
  },
  {
   "cell_type": "code",
   "execution_count": 16,
   "id": "d15a0400-c0fa-4381-9033-64c3c3c40e20",
   "metadata": {},
   "outputs": [
    {
     "data": {
      "text/plain": [
       "<AxesSubplot:ylabel='Count'>"
      ]
     },
     "execution_count": 16,
     "metadata": {},
     "output_type": "execute_result"
    },
    {
     "data": {
      "image/png": "[encoded data removed]",
      "text/plain": [
       "<Figure size 432x288 with 1 Axes>"
      ]
     },
     "metadata": {},
     "output_type": "display_data"
    }
   ],
   "source": [
    "sns.histplot(ctr1) \n",
    "sns.histplot(ctr2) "
   ]
  },
  {
   "cell_type": "code",
   "execution_count": 17,
   "id": "7a855344-b488-491d-b77e-08c776371cdd",
   "metadata": {},
   "outputs": [
    {
     "data": {
      "text/plain": [
       "<AxesSubplot:ylabel='Count'>"
      ]
     },
     "execution_count": 17,
     "metadata": {},
     "output_type": "execute_result"
    },
    {
     "data": {
      "image/png": "[encoded data removed]",
      "text/plain": [
       "<Figure size 432x288 with 1 Axes>"
      ]
     },
     "metadata": {},
     "output_type": "display_data"
    }
   ],
   "source": [
    "sns.histplot(ctr1 - ctr2) "
   ]
  },
  {
   "attachments": {},
   "cell_type": "markdown",
   "id": "29c94be1-ebbf-449b-a3a4-b87e0f9c7a4b",
   "metadata": {},
   "source": [
    "**Вывод**\n",
    "\n",
    "Согласно проведенному тесту видим, что распределение 2 выборок различается между собой, а их разница больше 0, что говорит о том, что мы можем отклонить нулевую гипотезу, о том, что выборки значимо не различаются между собой"
   ]
  },
  {
   "cell_type": "markdown",
   "id": "31fd2f46-fa0f-4e70-aefa-483e4865b7a0",
   "metadata": {},
   "source": [
    "## Сглаженный CTR"
   ]
  },
  {
   "cell_type": "code",
   "execution_count": 19,
   "id": "dab7a605-13e7-4a44-ae77-4567d246950d",
   "metadata": {},
   "outputs": [],
   "source": [
    "def get_smothed_ctr(user_likes, user_views, global_ctr, alpha):\n",
    "\n",
    "    \"\"\"\n",
    "    функция считает сглаженный CTR и возвращает его\n",
    "    \"\"\"\n",
    "\n",
    "    smothed_ctr = (user_likes + alpha * global_ctr) / (user_views + alpha)\n",
    "    return smothed_ctr"
   ]
  },
  {
   "cell_type": "code",
   "execution_count": 20,
   "id": "311e22cf-d89d-48fa-989f-980b0df8ba89",
   "metadata": {},
   "outputs": [],
   "source": [
    "global_ctr_1 = df_ab[df_ab.exp_group == 1].likes.sum()/df_ab[df_ab.exp_group == 1].views.sum()\n",
    "global_ctr_2 = df_ab[df_ab.exp_group == 2].likes.sum()/df_ab[df_ab.exp_group == 2].views.sum()"
   ]
  },
  {
   "cell_type": "code",
   "execution_count": 21,
   "id": "3d6ff2e5-f5ad-405d-bf96-725ec3d4a81d",
   "metadata": {},
   "outputs": [
    {
     "data": {
      "text/plain": [
       "<AxesSubplot:xlabel='ctr', ylabel='Count'>"
      ]
     },
     "execution_count": 21,
     "metadata": {},
     "output_type": "execute_result"
    },
    {
     "data": {
      "image/png": "[encoded data removed]",
      "text/plain": [
       "<Figure size 432x288 with 1 Axes>"
      ]
     },
     "metadata": {},
     "output_type": "display_data"
    }
   ],
   "source": [
    "group1 = df_ab[df_ab.exp_group == 1].copy()\n",
    "sns.histplot(group1.ctr, \n",
    "             kde = False)"
   ]
  },
  {
   "cell_type": "code",
   "execution_count": 22,
   "id": "3fe21169-5122-4637-b62e-53c6a7cb84d5",
   "metadata": {},
   "outputs": [
    {
     "data": {
      "text/plain": [
       "<AxesSubplot:xlabel='ctr', ylabel='Count'>"
      ]
     },
     "execution_count": 22,
     "metadata": {},
     "output_type": "execute_result"
    },
    {
     "data": {
      "image/png": "[encoded data removed]",
      "text/plain": [
       "<Figure size 432x288 with 1 Axes>"
      ]
     },
     "metadata": {},
     "output_type": "display_data"
    }
   ],
   "source": [
    "group2 = df_ab[df_ab.exp_group == 2].copy()\n",
    "sns.histplot(group2.ctr, \n",
    "             kde = False)"
   ]
  },
  {
   "cell_type": "code",
   "execution_count": 23,
   "id": "b027aff9-7b29-4e7e-9a1d-012a1fa6f63f",
   "metadata": {},
   "outputs": [
    {
     "data": {
      "text/plain": [
       "<AxesSubplot:xlabel='smothed_ctr', ylabel='Count'>"
      ]
     },
     "execution_count": 23,
     "metadata": {},
     "output_type": "execute_result"
    },
    {
     "data": {
      "image/png": "[encoded data removed]",
      "text/plain": [
       "<Figure size 432x288 with 1 Axes>"
      ]
     },
     "metadata": {},
     "output_type": "display_data"
    }
   ],
   "source": [
    "group1['smothed_ctr'] = df_ab.apply(\n",
    "    lambda x: get_smothed_ctr(x['likes'], x['views'], global_ctr_1, 5), axis=1)\n",
    "\n",
    "sns.histplot(group1.smothed_ctr, \n",
    "             kde = False)"
   ]
  },
  {
   "cell_type": "code",
   "execution_count": 24,
   "id": "96b668e9-53bf-4169-8b42-c174571e598e",
   "metadata": {},
   "outputs": [
    {
     "data": {
      "text/plain": [
       "<AxesSubplot:xlabel='smothed_ctr', ylabel='Count'>"
      ]
     },
     "execution_count": 24,
     "metadata": {},
     "output_type": "execute_result"
    },
    {
     "data": {
      "image/png": "[encoded data removed]",
      "text/plain": [
       "<Figure size 432x288 with 1 Axes>"
      ]
     },
     "metadata": {},
     "output_type": "display_data"
    }
   ],
   "source": [
    "group2['smothed_ctr'] = df_ab.apply(\n",
    "    lambda x: get_smothed_ctr(x['likes'], x['views'], global_ctr_2, 5), axis=1)\n",
    "\n",
    "sns.histplot(group2.smothed_ctr, \n",
    "             kde = False)"
   ]
  },
  {
   "cell_type": "code",
   "execution_count": 25,
   "id": "7687abf1-1df9-4953-aad9-7b9de16b8111",
   "metadata": {},
   "outputs": [
    {
     "data": {
      "text/plain": [
       "0.21073955503259234"
      ]
     },
     "execution_count": 25,
     "metadata": {},
     "output_type": "execute_result"
    }
   ],
   "source": [
    "group2['smothed_ctr'].mean()"
   ]
  },
  {
   "cell_type": "code",
   "execution_count": 26,
   "id": "1dfb0bcc-a640-47e8-8605-4c6cb24040d9",
   "metadata": {},
   "outputs": [
    {
     "data": {
      "text/plain": [
       "0.21402549608884142"
      ]
     },
     "execution_count": 26,
     "metadata": {},
     "output_type": "execute_result"
    }
   ],
   "source": [
    "group1['smothed_ctr'].mean()"
   ]
  },
  {
   "cell_type": "code",
   "execution_count": 27,
   "id": "f54ac821-d7e0-45b9-a1de-682fd949c77e",
   "metadata": {},
   "outputs": [
    {
     "data": {
      "text/plain": [
       "Ttest_indResult(statistic=2.2841320431616983, pvalue=0.0223769815558559)"
      ]
     },
     "execution_count": 27,
     "metadata": {},
     "output_type": "execute_result"
    }
   ],
   "source": [
    "stats.ttest_ind(group1['smothed_ctr'] , group2['smothed_ctr'] , equal_var = False)"
   ]
  },
  {
   "attachments": {},
   "cell_type": "markdown",
   "id": "0b99ba97-4a48-4ac4-b6d4-6be6d28cc4ee",
   "metadata": {},
   "source": [
    "**Вывод**\n",
    "\n",
    "согласно проведенному тесту p value < 0.05, поэтому на данном уровне значимости мы можем отклонить нулевую гипотезу и принять альтернативную"
   ]
  },
  {
   "cell_type": "markdown",
   "id": "c0bc3c04-4d71-4135-9e6e-91ecf1816cfb",
   "metadata": {},
   "source": [
    "## Бакетное преобразование"
   ]
  },
  {
   "cell_type": "code",
   "execution_count": 28,
   "id": "51106328-e007-4233-a584-d25512d3f440",
   "metadata": {},
   "outputs": [
    {
     "data": {
      "text/plain": [
       "MannwhitneyuResult(statistic=1995.0, pvalue=2.859963936492646e-07)"
      ]
     },
     "execution_count": 28,
     "metadata": {},
     "output_type": "execute_result"
    }
   ],
   "source": [
    "q_bucket = \"\"\"\n",
    "SELECT exp_group, bucket,\n",
    "    sum(likes)/sum(views) as bucket_ctr,\n",
    "    quantileExact(0.9)(ctr) as ctr9\n",
    "FROM (SELECT exp_group, \n",
    "        xxHash64(user_id)%50 as bucket,\n",
    "        user_id,\n",
    "        sum(action = 'like') as likes,\n",
    "        sum(action = 'view') as views,\n",
    "        likes/views as ctr\n",
    "    FROM {db}.feed_actions \n",
    "    WHERE toDate(time) between '2022-11-02' and '2022-11-08'\n",
    "        and exp_group in (2,1)\n",
    "    GROUP BY exp_group, bucket, user_id)\n",
    "GROUP BY exp_group, bucket\n",
    "\"\"\"\n",
    "\n",
    "df_bucket_ctr = pandahouse.read_clickhouse(q_bucket, connection=connection)\n",
    "\n",
    "stats.mannwhitneyu(df_bucket_ctr[df_bucket_ctr.exp_group == 1].bucket_ctr, \n",
    "                   df_bucket_ctr[df_bucket_ctr.exp_group == 2].bucket_ctr, \n",
    "                   alternative = 'two-sided')"
   ]
  },
  {
   "attachments": {},
   "cell_type": "markdown",
   "id": "4c70c863-eb21-4663-8b87-3810124ec3b1",
   "metadata": {},
   "source": [
    "**Вывод**\n",
    "\n",
    "согласно проведенному тесту p value < 0.05, поэтому на данном уровне значимости мы можем отклонить нулевую гипотезу и принять альтернативную гипотезу о различии в распределениях в двух выборках"
   ]
  },
  {
   "attachments": {},
   "cell_type": "markdown",
   "id": "dae6be90-8801-4b18-b7ab-45866f716196",
   "metadata": {},
   "source": [
    "## Выводы\n",
    "Для анализа данного алгоритма были применены следующие методы t-тест, обычный бутстреп, Пуассоновский бутстреп, тест Манна-Уитни, t-тест на сглаженном ctr (α=5) и тест Манна-Уитни поверх бакетного преобразования. Каждый из методов показал себя по-разному.\n",
    " 1. Т-тест на всей выборке при метрике CTR на пользователя - не нашел значимых различий в средних между 2 выборками. Данный факт связан с тем, что распределения 2 наших выборок различается, и во 2 выборке наблюдаются определенные выбросы (ctr более 0,7), а также перекос в сторону ctr ~ 0.1, что сказывается на среднем значении, которое не сильно отличается от среднего в контрольной выборке.\n",
    " 2. Обычный бутстреп также не нашел значимых различий в 2 выборках, однако его продвинутая версия Пуассоновский бутстреп нашел различия в 2 выборках\n",
    " 3. тест Манна-Уитни показал значимые различия, что довольно очевидно так, как мы видим наглядное изменение в распределениях между 2 выборками: если в контрольной оно унимодально и имеет явно выраженное среднее в районе 0.2, то в тестовой выборке мы видим 2 пика: 1 на уровне 0.1 (что наиболее превалирует) и 2 на уровне 0.3. Таким образом видно, что поведение пользователей изменилось. Теперь у довольно большого кол-ва пользователей ctr снизился, однако у 2 половине он повысился, более того можно наблюдать пользователей с ctr более 0.7\n",
    " 4. t-тест на сглаженном ctr (α=5) также показал значимые различия в выборках, что произошло благодаря сглаживанию ctr в выборках.\n",
    " 5. тест Манна-Уитни поверх бакетного преобразования также показал значимые различия в выборках.\n",
    " \n",
    " **Вывод:**\n",
    " - Для данного А/B теста я бы выбрал критерий Манна-Уитни, так как он наиболее полно отражается ситуацию при использовании нового алгоритма.\n",
    " - Во-первых, мы наблюдаем снижение ctr в тестовой группе (это видно как в обычном ctr, так и в сглаженном), более того при использовании сглаженного ctr снижение среднего значения статически значимо. \n",
    " - Во-вторых, видно, что поведение пользователей изменилось, если раньше у наибольшой части пользователей ctr был в районе 0.2, то в тестовой эта группа образовала 2 группы: 1 на уровне 0.1 и ниже(наибольшая группа) и 2 на уровне 0.3 и выше. То есть алгоритм работает странно, для большинтсва пользователей он начал выдавать странные рекомендации, однако для второй группы он начал выдавать хорошие рекомендации (появились даже те, которые лайкают более 70% постов). Однако наличие большого кол-ва низкого ctr не позволяет говорить о том, что алгоритм сработал\n",
    " \n",
    " **Вердикт:** данный алгоритм не стоит раскатывать\n",
    " \n",
    " \n"
   ]
  },
  {
   "attachments": {},
   "cell_type": "markdown",
   "id": "8678899d-71ee-4588-9f97-95274a82f455",
   "metadata": {
    "tags": []
   },
   "source": [
    "# 3 Задание\n",
    "**Задача**\n",
    "\n",
    "- Проанализируйте тест между группами 0 и 3 по метрике линеаризованных лайков. Видно ли отличие? Стало ли 𝑝−𝑣𝑎𝑙𝑢𝑒 меньше?\n",
    "- Проанализируйте тест между группами 1 и 2 по метрике линеаризованных лайков. Видно ли отличие? Стало ли 𝑝−𝑣𝑎𝑙𝑢𝑒 меньше?"
   ]
  },
  {
   "cell_type": "code",
   "execution_count": 35,
   "id": "fb98936c-1366-4dd2-9b08-8b0548e6e46e",
   "metadata": {},
   "outputs": [
    {
     "data": {
      "text/html": [
       "<div>\n",
       "<style scoped>\n",
       "    .dataframe tbody tr th:only-of-type {\n",
       "        vertical-align: middle;\n",
       "    }\n",
       "\n",
       "    .dataframe tbody tr th {\n",
       "        vertical-align: top;\n",
       "    }\n",
       "\n",
       "    .dataframe thead th {\n",
       "        text-align: right;\n",
       "    }\n",
       "</style>\n",
       "<table border=\"1\" class=\"dataframe\">\n",
       "  <thead>\n",
       "    <tr style=\"text-align: right;\">\n",
       "      <th></th>\n",
       "      <th>exp_group</th>\n",
       "      <th>user_id</th>\n",
       "      <th>likes</th>\n",
       "      <th>views</th>\n",
       "      <th>ctr</th>\n",
       "    </tr>\n",
       "  </thead>\n",
       "  <tbody>\n",
       "    <tr>\n",
       "      <th>0</th>\n",
       "      <td>3</td>\n",
       "      <td>115383</td>\n",
       "      <td>9</td>\n",
       "      <td>30</td>\n",
       "      <td>0.300000</td>\n",
       "    </tr>\n",
       "    <tr>\n",
       "      <th>1</th>\n",
       "      <td>1</td>\n",
       "      <td>18392</td>\n",
       "      <td>7</td>\n",
       "      <td>32</td>\n",
       "      <td>0.218750</td>\n",
       "    </tr>\n",
       "    <tr>\n",
       "      <th>2</th>\n",
       "      <td>3</td>\n",
       "      <td>123580</td>\n",
       "      <td>13</td>\n",
       "      <td>48</td>\n",
       "      <td>0.270833</td>\n",
       "    </tr>\n",
       "    <tr>\n",
       "      <th>3</th>\n",
       "      <td>2</td>\n",
       "      <td>131473</td>\n",
       "      <td>14</td>\n",
       "      <td>134</td>\n",
       "      <td>0.104478</td>\n",
       "    </tr>\n",
       "    <tr>\n",
       "      <th>4</th>\n",
       "      <td>2</td>\n",
       "      <td>32420</td>\n",
       "      <td>26</td>\n",
       "      <td>128</td>\n",
       "      <td>0.203125</td>\n",
       "    </tr>\n",
       "  </tbody>\n",
       "</table>\n",
       "</div>"
      ],
      "text/plain": [
       "   exp_group  user_id  likes  views       ctr\n",
       "0          3   115383      9     30  0.300000\n",
       "1          1    18392      7     32  0.218750\n",
       "2          3   123580     13     48  0.270833\n",
       "3          2   131473     14    134  0.104478\n",
       "4          2    32420     26    128  0.203125"
      ]
     },
     "execution_count": 35,
     "metadata": {},
     "output_type": "execute_result"
    }
   ],
   "source": [
    "q_linearized = \"\"\"\n",
    "SELECT exp_group, \n",
    "    user_id,\n",
    "    sum(action = 'like') as likes,\n",
    "    sum(action = 'view') as views,\n",
    "    likes/views as ctr\n",
    "FROM {db}.feed_actions \n",
    "WHERE toDate(time) between '2022-11-02' and '2022-11-08'\n",
    "    and exp_group in (0, 1, 2, 3)\n",
    "GROUP BY exp_group, user_id\n",
    "\"\"\"\n",
    "\n",
    "df_linearized = pandahouse.read_clickhouse(q_linearized, connection=connection)\n",
    "\n",
    "df_linearized.head()"
   ]
  },
  {
   "cell_type": "code",
   "execution_count": 51,
   "id": "b21f5513-06e7-4fa7-b592-ab77da1d51a7",
   "metadata": {},
   "outputs": [],
   "source": [
    "def get_linearized_likes(user_likes, user_views, global_ctr):\n",
    "\n",
    "    \"\"\"\n",
    "    функция метрику линеаризованных лайков и возвращает их\n",
    "    \"\"\"\n",
    "    \n",
    "    linearized_likes = (user_likes - global_ctr * user_views)\n",
    "    return linearized_likes "
   ]
  },
  {
   "cell_type": "code",
   "execution_count": 52,
   "id": "ff31d9ea-d224-4f01-b3cd-fa648334bc9a",
   "metadata": {},
   "outputs": [],
   "source": [
    "group1 = df_ab[df_ab.exp_group == 1].copy()\n",
    "group2 = df_ab[df_ab.exp_group == 2].copy()\n",
    "group0 = df_ab[df_ab.exp_group == 0].copy()\n",
    "group3 = df_ab[df_ab.exp_group == 3].copy()"
   ]
  },
  {
   "cell_type": "code",
   "execution_count": 53,
   "id": "2de55745-e0c2-4bbb-98e0-63c915a41f74",
   "metadata": {},
   "outputs": [
    {
     "data": {
      "text/plain": [
       "<AxesSubplot:xlabel='linearized_likes', ylabel='Count'>"
      ]
     },
     "execution_count": 53,
     "metadata": {},
     "output_type": "execute_result"
    },
    {
     "data": {
      "image/png": "[encoded data removed]",
      "text/plain": [
       "<Figure size 432x288 with 1 Axes>"
      ]
     },
     "metadata": {},
     "output_type": "display_data"
    }
   ],
   "source": [
    "group1['linearized_likes'] = df_linearized.apply(\n",
    "    lambda x: get_linearized_likes(x['likes'], x['views'], global_ctr_2), axis=1)\n",
    "\n",
    "sns.histplot(group1['linearized_likes'],\n",
    "             kde = False)\n",
    "group2['linearized_likes'] = df_linearized.apply(\n",
    "    lambda x: get_linearized_likes(x['likes'], x['views'], global_ctr_2), axis=1)\n",
    "\n",
    "sns.histplot(group2['linearized_likes'],\n",
    "             kde = False)"
   ]
  },
  {
   "cell_type": "code",
   "execution_count": 54,
   "id": "8b5815c9-dfac-4059-ad02-ec5d3aed8065",
   "metadata": {},
   "outputs": [
    {
     "data": {
      "text/plain": [
       "Ttest_indResult(statistic=5.875197054309625, pvalue=4.313818677881745e-09)"
      ]
     },
     "execution_count": 54,
     "metadata": {},
     "output_type": "execute_result"
    }
   ],
   "source": [
    "stats.ttest_ind(group1['linearized_likes'] , group2['linearized_likes'] , equal_var = False)"
   ]
  },
  {
   "attachments": {},
   "cell_type": "markdown",
   "id": "55744b62-3e50-43eb-aa75-5053e5199429",
   "metadata": {},
   "source": [
    "**Вывод**\n",
    "\n",
    "согласно проведенному тесту p value < 0.05, поэтому на данном уровне значимости мы можем отклонить нулевую гипотезу и принять альтернативную"
   ]
  },
  {
   "cell_type": "code",
   "execution_count": 56,
   "id": "e078370b-b973-4888-b1d3-6f296e30be5f",
   "metadata": {},
   "outputs": [
    {
     "data": {
      "text/plain": [
       "<AxesSubplot:xlabel='linearized_likes', ylabel='Count'>"
      ]
     },
     "execution_count": 56,
     "metadata": {},
     "output_type": "execute_result"
    },
    {
     "data": {
      "image/png": "[encoded data removed]",
      "text/plain": [
       "<Figure size 432x288 with 1 Axes>"
      ]
     },
     "metadata": {},
     "output_type": "display_data"
    }
   ],
   "source": [
    "group0['linearized_likes'] = df_linearized.apply(\n",
    "    lambda x: get_linearized_likes(x['likes'], x['views'], global_ctr_2), axis=1)\n",
    "sns.histplot(group0['linearized_likes'],\n",
    "             kde = False)\n",
    "group3['linearized_likes'] = df_linearized.apply(\n",
    "    lambda x: get_linearized_likes(x['likes'], x['views'], global_ctr_2), axis=1)\n",
    "sns.histplot(group3['linearized_likes'],\n",
    "             kde = False,\n",
    "            palette = ['r', 'b'])"
   ]
  },
  {
   "cell_type": "code",
   "execution_count": 58,
   "id": "6de7f950-140d-4df9-a7bf-79654329e3f1",
   "metadata": {},
   "outputs": [
    {
     "data": {
      "text/plain": [
       "Ttest_indResult(statistic=-14.514397206083885, pvalue=1.7107859347382044e-47)"
      ]
     },
     "execution_count": 58,
     "metadata": {},
     "output_type": "execute_result"
    }
   ],
   "source": [
    "stats.ttest_ind(group0['linearized_likes'] , group3['linearized_likes'] , equal_var = False)"
   ]
  },
  {
   "attachments": {},
   "cell_type": "markdown",
   "id": "34976608-2271-47f6-95cf-dccbf4b3a81a",
   "metadata": {},
   "source": [
    "**Вывод**\n",
    "\n",
    "согласно проведенному тесту p value < 0.05, поэтому на данном уровне значимости мы можем отклонить нулевую гипотезу и принять альтернативную"
   ]
  },
  {
   "cell_type": "markdown",
   "id": "24469b1b-0e31-498e-9248-2934b3ebb2ae",
   "metadata": {},
   "source": [
    "Таким образом, с помощью метрики линеаризованных лайков мы видим значимые различия в обоих тестах, болле того значение p_value очень низкое (близкое к 0)"
   ]
  }
 ],
 "metadata": {
  "kernelspec": {
   "display_name": "Python 3",
   "language": "python",
   "name": "python3"
  },
  "language_info": {
   "codemirror_mode": {
    "name": "ipython",
    "version": 3
   },
   "file_extension": ".py",
   "mimetype": "text/x-python",
   "name": "python",
   "nbconvert_exporter": "python",
   "pygments_lexer": "ipython3",
   "version": "3.10.4"
  },
  "vscode": {
   "interpreter": {
    "hash": "158834a458448df1080b5eb7d3e34abfb64dddde9e2d7d5e08c7c22732857a0a"
   }
  }
 },
 "nbformat": 4,
 "nbformat_minor": 5
}
